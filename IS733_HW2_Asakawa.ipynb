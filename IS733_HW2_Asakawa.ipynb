{
 "cells": [
  {
   "cell_type": "code",
   "execution_count": 26,
   "id": "adbf5e78",
   "metadata": {},
   "outputs": [
    {
     "name": "stdout",
     "output_type": "stream",
     "text": [
      "   citric acid  sulphates  alcohol  type\n",
      "0         0.49       0.63      8.0   low\n",
      "1         0.66       0.57      8.3   low\n",
      "2         0.23       0.44      8.5  high\n",
      "3         0.44       0.84      8.6   low\n",
      "4         0.08       0.50      8.7   low\n"
     ]
    }
   ],
   "source": [
    "import pandas as pd\n",
    "\n",
    "file_path = r'C:\\Users\\tiago\\OneDrive\\Documentos\\Classes\\Fall 2023\\IS733\\Week 7\\HW2\\red_wine.csv'\n",
    "\n",
    "try:\n",
    "    # Read the CSV file using pandas\n",
    "    data = pd.read_csv(file_path)\n",
    "\n",
    "    # Display the content of the CSV file\n",
    "    print(data.head())  # You can change the number of rows to display using head() function\n",
    "\n",
    "except FileNotFoundError:\n",
    "    print(\"The file was not found. Please ensure the file path is correct.\")\n",
    "except pd.errors.EmptyDataError:\n",
    "    print(\"The file is empty.\")\n",
    "except pd.errors.ParserError:\n",
    "    print(\"There was an issue parsing the file. Please ensure it is a valid CSV.\")\n",
    "except pd.errors.DtypeWarning as e:\n",
    "    print(f\"Warning: {e}\")\n",
    "except Exception as e:\n",
    "    print(f\"An error occurred: {e}\")\n"
   ]
  },
  {
   "cell_type": "code",
   "execution_count": 27,
   "id": "2349c800",
   "metadata": {},
   "outputs": [
    {
     "name": "stdout",
     "output_type": "stream",
     "text": [
      "Accuracy: 0.7843920145190562\n",
      "AUC: 0.8758187053885977\n"
     ]
    }
   ],
   "source": [
    "\n",
    "from sklearn.model_selection import cross_val_score\n",
    "from sklearn.linear_model import LogisticRegression\n",
    "from sklearn.metrics import accuracy_score, roc_auc_score\n",
    "from sklearn.model_selection import StratifiedKFold\n",
    "\n",
    "\n",
    "\n",
    "# Assuming the target variable is in a column named 'target' - replace 'target' with your actual target column name\n",
    "X = data.drop('type', axis=1)  # Features\n",
    "y = data['type']  # Target variable\n",
    "\n",
    "# Creating a logistic regression model (you can use a different model)\n",
    "model = LogisticRegression()\n",
    "\n",
    "# Perform 10-fold cross-validation\n",
    "kfold = StratifiedKFold(n_splits=10, shuffle=True, random_state=42)\n",
    "\n",
    "# Get accuracy scores for each fold\n",
    "accuracy_scores = cross_val_score(model, X, y, cv=kfold, scoring='accuracy')\n",
    "\n",
    "# Get AUC scores for each fold\n",
    "auc_scores = cross_val_score(model, X, y, cv=kfold, scoring='roc_auc')\n",
    "\n",
    "# Display the performance metrics\n",
    "print(f'Accuracy: {accuracy_scores.mean()}')\n",
    "print(f'AUC: {auc_scores.mean()}')\n"
   ]
  },
  {
   "cell_type": "code",
   "execution_count": 28,
   "id": "40ceb65a",
   "metadata": {},
   "outputs": [
    {
     "name": "stdout",
     "output_type": "stream",
     "text": [
      "Baseline Model Accuracy (predicting majority class): 0.5043\n",
      "Baseline Model AUC (random classifier): 0.5466\n"
     ]
    }
   ],
   "source": [
    "import numpy as np\n",
    "\n",
    "# Assuming 'data' is your dataset and 'target' is your target column\n",
    "target = data['type']  # Change 'target' to your actual target column name\n",
    "\n",
    "# Split the data into training and testing sets\n",
    "X_train, X_test, y_train, y_test = train_test_split(data.drop('type', axis=1), target, test_size=0.2, random_state=42)\n",
    "\n",
    "# Calculate Baseline Accuracy (predicting majority class)\n",
    "baseline_acc = max(y_test.value_counts(normalize=True))\n",
    "print(f\"Baseline Model Accuracy (predicting majority class): {baseline_acc:.4f}\")\n",
    "\n",
    "# Calculate Baseline AUC (random classifier)\n",
    "random_probs = np.random.rand(len(y_test))  # Generating random probabilities\n",
    "baseline_auc = roc_auc_score(y_test, random_probs)\n",
    "print(f\"Baseline Model AUC (random classifier): {baseline_auc:.4f}\")\n"
   ]
  },
  {
   "cell_type": "code",
   "execution_count": 29,
   "id": "270c23a1",
   "metadata": {},
   "outputs": [
    {
     "name": "stdout",
     "output_type": "stream",
     "text": [
      "Accuracy: 0.8247731397459164\n",
      "AUC: 0.8932910578071869\n"
     ]
    }
   ],
   "source": [
    "\n",
    "from sklearn.naive_bayes import GaussianNB\n",
    "\n",
    "\n",
    "model = GaussianNB()\n",
    "\n",
    "# Perform 10-fold cross-validation\n",
    "kfold = StratifiedKFold(n_splits=10, shuffle=True, random_state=42)\n",
    "\n",
    "# Get accuracy scores for each fold\n",
    "accuracy_scores = cross_val_score(model, X, y, cv=kfold, scoring='accuracy')\n",
    "\n",
    "# Get AUC scores for each fold\n",
    "auc_scores = cross_val_score(model, X, y, cv=kfold, scoring='roc_auc')\n",
    "\n",
    "# Display the performance metrics\n",
    "print(f'Accuracy: {accuracy_scores.mean()}')\n",
    "print(f'AUC: {auc_scores.mean()}')\n"
   ]
  },
  {
   "cell_type": "code",
   "execution_count": 30,
   "id": "2bf27faf",
   "metadata": {},
   "outputs": [
    {
     "name": "stdout",
     "output_type": "stream",
     "text": [
      "Accuracy: 0.8141560798548093\n",
      "AUC: 0.8057848543332413\n"
     ]
    }
   ],
   "source": [
    "\n",
    "from sklearn.tree import DecisionTreeClassifier\n",
    "\n",
    "\n",
    "# Creating a Decision Tree classifier\n",
    "model = DecisionTreeClassifier()\n",
    "\n",
    "# Perform 10-fold cross-validation\n",
    "kfold = StratifiedKFold(n_splits=10, shuffle=True, random_state=42)\n",
    "\n",
    "# Get accuracy scores for each fold\n",
    "accuracy_scores = cross_val_score(model, X, y, cv=kfold, scoring='accuracy')\n",
    "\n",
    "# Get AUC scores for each fold (Note: Decision Trees can compute AUC directly)\n",
    "auc_scores = cross_val_score(model, X, y, cv=kfold, scoring='roc_auc')\n",
    "\n",
    "# Display the performance metrics\n",
    "print(f'Accuracy: {accuracy_scores.mean()}')\n",
    "print(f'AUC: {auc_scores.mean()}')\n"
   ]
  },
  {
   "cell_type": "code",
   "execution_count": 31,
   "id": "f4bf0ef3",
   "metadata": {},
   "outputs": [
    {
     "name": "stdout",
     "output_type": "stream",
     "text": [
      "Accuracy: 0.79313369630974\n",
      "AUC: 0.8754455779186963\n"
     ]
    }
   ],
   "source": [
    "\n",
    "from sklearn.svm import SVC\n",
    "\n",
    "\n",
    "# Creating a Linear SVM classifier\n",
    "model = SVC(kernel='linear', probability=True)  # Using a linear kernel for SVM\n",
    "\n",
    "# Perform 10-fold cross-validation\n",
    "kfold = StratifiedKFold(n_splits=10, shuffle=True, random_state=42)\n",
    "\n",
    "# Get accuracy scores for each fold\n",
    "accuracy_scores = cross_val_score(model, X, y, cv=kfold, scoring='accuracy')\n",
    "\n",
    "# Get AUC scores for each fold\n",
    "auc_scores = cross_val_score(model, X, y, cv=kfold, scoring='roc_auc')\n",
    "\n",
    "# Display the performance metrics\n",
    "print(f'Accuracy: {accuracy_scores.mean()}')\n",
    "print(f'AUC: {auc_scores.mean()}')\n"
   ]
  },
  {
   "cell_type": "code",
   "execution_count": 32,
   "id": "d45ada04",
   "metadata": {},
   "outputs": [
    {
     "name": "stdout",
     "output_type": "stream",
     "text": [
      "Accuracy: 0.5358439201451906\n",
      "AUC: 0.8550237416904084\n"
     ]
    }
   ],
   "source": [
    "\n",
    "\n",
    "# Creating an SVM classifier with RBF kernel\n",
    "model = SVC(kernel='rbf', probability=True)  # Using RBF kernel for SVM\n",
    "\n",
    "# Perform 10-fold cross-validation\n",
    "kfold = StratifiedKFold(n_splits=10, shuffle=True, random_state=42)\n",
    "\n",
    "# Get accuracy scores for each fold\n",
    "accuracy_scores = cross_val_score(model, X, y, cv=kfold, scoring='accuracy')\n",
    "\n",
    "# Get AUC scores for each fold\n",
    "auc_scores = cross_val_score(model, X, y, cv=kfold, scoring='roc_auc')\n",
    "\n",
    "# Display the performance metrics\n",
    "print(f'Accuracy: {accuracy_scores.mean()}')\n",
    "print(f'AUC: {auc_scores.mean()}')\n"
   ]
  },
  {
   "cell_type": "code",
   "execution_count": 33,
   "id": "06f636ec",
   "metadata": {},
   "outputs": [
    {
     "name": "stdout",
     "output_type": "stream",
     "text": [
      "Accuracy: 0.8403811252268604\n",
      "AUC: 0.918030971418068\n"
     ]
    }
   ],
   "source": [
    "\n",
    "from sklearn.ensemble import RandomForestClassifier\n",
    "\n",
    "\n",
    "# Creating a Random Forest classifier\n",
    "model = RandomForestClassifier(n_estimators=100, random_state=42)  # Using 100 trees in the forest\n",
    "\n",
    "# Perform 10-fold cross-validation\n",
    "kfold = StratifiedKFold(n_splits=10, shuffle=True, random_state=42)\n",
    "\n",
    "# Get accuracy scores for each fold\n",
    "accuracy_scores = cross_val_score(model, X, y, cv=kfold, scoring='accuracy')\n",
    "\n",
    "# Get AUC scores for each fold\n",
    "auc_scores = cross_val_score(model, X, y, cv=kfold, scoring='roc_auc')\n",
    "\n",
    "# Display the performance metrics\n",
    "print(f'Accuracy: {accuracy_scores.mean()}')\n",
    "print(f'AUC: {auc_scores.mean()}')\n"
   ]
  },
  {
   "cell_type": "code",
   "execution_count": 34,
   "id": "af77bc11",
   "metadata": {},
   "outputs": [
    {
     "name": "stdout",
     "output_type": "stream",
     "text": [
      "Accuracy: 0.8403811252268604\n",
      "AUC: 0.918030971418068\n"
     ]
    },
    {
     "data": {
      "image/png": "[encoded data removed]",
      "text/plain": [
       "<Figure size 800x600 with 1 Axes>"
      ]
     },
     "metadata": {},
     "output_type": "display_data"
    }
   ],
   "source": [
    "\n",
    "\n",
    "# Read the CSV file using pandas\n",
    "file_path = r'C:\\Users\\tiago\\OneDrive\\Documentos\\Classes\\Fall 2023\\IS733\\Week 7\\HW2\\red_wine.csv'\n",
    "data = pd.read_csv(file_path)\n",
    "\n",
    "# Mapping 'high' to 1 and 'low' to 0 in the target column\n",
    "data['type'] = data['type'].map({'low': 0, 'high': 1})\n",
    "\n",
    "# Assuming the target variable is now numerical (0 and 1)\n",
    "X = data.drop('type', axis=1)  # Features\n",
    "y = data['type']  # Target variable\n",
    "\n",
    "# Creating a Random Forest classifier\n",
    "model = RandomForestClassifier(n_estimators=100, random_state=42)  # Using 100 trees in the forest\n",
    "\n",
    "# Perform 10-fold cross-validation to get performance metrics\n",
    "kfold = StratifiedKFold(n_splits=10, shuffle=True, random_state=42)\n",
    "\n",
    "# Get accuracy scores for each fold\n",
    "accuracy_scores = cross_val_score(model, X, y, cv=kfold, scoring='accuracy')\n",
    "\n",
    "# Get AUC scores for each fold\n",
    "auc_scores = cross_val_score(model, X, y, cv=kfold, scoring='roc_auc')\n",
    "\n",
    "# Display the performance metrics\n",
    "print(f'Accuracy: {accuracy_scores.mean()}')\n",
    "print(f'AUC: {auc_scores.mean()}')\n",
    "\n",
    "# Split the data into training and testing sets for ROC curve\n",
    "X_train, X_test, y_train, y_test = train_test_split(X, y, test_size=0.2, random_state=42)\n",
    "\n",
    "# Fit the model\n",
    "model.fit(X_train, y_train)\n",
    "\n",
    "# Get predicted probabilities for the positive class\n",
    "y_scores = model.predict_proba(X_test)[:, 1]\n",
    "\n",
    "# Calculate the ROC curve\n",
    "fpr, tpr, thresholds = roc_curve(y_test, y_scores)\n",
    "roc_auc = auc(fpr, tpr)\n",
    "\n",
    "# Plot ROC curve\n",
    "plt.figure(figsize=(8, 6))\n",
    "plt.plot(fpr, tpr, color='blue', lw=2, label='ROC curve (area = %0.2f)' % roc_auc)\n",
    "plt.plot([0, 1], [0, 1], color='gray', linestyle='--')\n",
    "plt.xlim([0.0, 1.0])\n",
    "plt.ylim([0.0, 1.05])\n",
    "plt.xlabel('False Positive Rate')\n",
    "plt.ylabel('True Positive Rate')\n",
    "plt.title('Receiver Operating Characteristic (ROC) Curve')\n",
    "plt.legend(loc=\"lower right\")\n",
    "plt.show()\n"
   ]
  },
  {
   "cell_type": "code",
   "execution_count": 36,
   "id": "979bf78b",
   "metadata": {},
   "outputs": [
    {
     "name": "stdout",
     "output_type": "stream",
     "text": [
      "Mean AUC with 10-fold cross-validation: 0.9958\n",
      "The model's performance is strong, indicating high predictive power.\n"
     ]
    }
   ],
   "source": [
    "\n",
    "\n",
    "# Load the dataset\n",
    "file_path = r'C:\\Users\\tiago\\OneDrive\\Documentos\\Classes\\Fall 2023\\IS733\\Week 7\\HW2\\white_wine.csv'\n",
    "data = pd.read_csv(file_path)\n",
    "\n",
    "# Assuming 'target' is the target column in your dataset\n",
    "# Replace 'target' with your actual target column name\n",
    "X = data.drop('type', axis=1)  # Features\n",
    "y = data['type']  # Target variable\n",
    "\n",
    "# Create a Random Forest Classifier\n",
    "model = RandomForestClassifier(n_estimators=100, random_state=42)  # Using 100 trees in the forest\n",
    "\n",
    "# Perform 10-fold cross-validation\n",
    "kfold = StratifiedKFold(n_splits=10, shuffle=True, random_state=42)\n",
    "\n",
    "# Get AUC scores for each fold\n",
    "auc_scores = cross_val_score(model, X, y, cv=kfold, scoring='roc_auc')\n",
    "\n",
    "# Display the mean AUC\n",
    "mean_auc = auc_scores.mean()\n",
    "print(f\"Mean AUC with 10-fold cross-validation: {mean_auc:.4f}\")\n",
    "\n",
    "# Comment on performance based on the AUC score\n",
    "if mean_auc == 0.5:\n",
    "    print(\"The model's performance is similar to random guessing (no predictive power).\")\n",
    "elif mean_auc < 0.7:\n",
    "    print(\"The model's performance is fair, but it may need improvement.\")\n",
    "elif mean_auc < 0.8:\n",
    "    print(\"The model's performance is good and shows promising predictive power.\")\n",
    "else:\n",
    "    print(\"The model's performance is strong, indicating high predictive power.\")\n"
   ]
  },
  {
   "cell_type": "code",
   "execution_count": null,
   "id": "38474a5a",
   "metadata": {},
   "outputs": [],
   "source": []
  }
 ],
 "metadata": {
  "kernelspec": {
   "display_name": "Python 3 (ipykernel)",
   "language": "python",
   "name": "python3"
  },
  "language_info": {
   "codemirror_mode": {
    "name": "ipython",
    "version": 3
   },
   "file_extension": ".py",
   "mimetype": "text/x-python",
   "name": "python",
   "nbconvert_exporter": "python",
   "pygments_lexer": "ipython3",
   "version": "3.11.4"
  }
 },
 "nbformat": 4,
 "nbformat_minor": 5
}
